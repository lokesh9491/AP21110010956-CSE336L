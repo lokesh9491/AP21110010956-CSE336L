{
  "nbformat": 4,
  "nbformat_minor": 0,
  "metadata": {
    "colab": {
      "provenance": []
    },
    "kernelspec": {
      "name": "python3",
      "display_name": "Python 3"
    },
    "language_info": {
      "name": "python"
    }
  },
  "cells": [
    {
      "cell_type": "code",
      "execution_count": 29,
      "metadata": {
        "colab": {
          "base_uri": "https://localhost:8080/"
        },
        "id": "sYsPzg8XLknk",
        "outputId": "f7d4c711-e2c1-4cc5-f33a-f72b3d470666"
      },
      "outputs": [
        {
          "output_type": "stream",
          "name": "stdout",
          "text": [
            " array with missing values:\n",
            "[[3 nan\n",
            "  <module 'numpy' from '/usr/local/lib/python3.10/dist-packages/numpy/__init__.py'>\n",
            "  1]\n",
            " [810 nan nan 9]]\n",
            "array:\n",
            "[[False  True False False]\n",
            " [False  True  True False]]\n"
          ]
        }
      ],
      "source": [
        "import numpy as np\n",
        "import pandas as pd\n",
        "\n",
        "nums = np.array([[3, np.nan,np, 1],\n",
        " [810, np.nan,np.nan, 9]])\n",
        "\n",
        "print(\" array with missing values:\")\n",
        "print(nums)\n",
        "\n",
        "print(\"array:\")\n",
        "print(pd.isnull(nums))"
      ]
    },
    {
      "cell_type": "code",
      "source": [
        " import numpy as np\n",
        "\n",
        "arr1= np.array([1,22,44,20])\n",
        "\n",
        "arr2=np.array([[1,22,44,22]])\n",
        "\n",
        "print(type(arr1))\n",
        "print(type(arr2))\n",
        "\n",
        "arr4=np.isin(arr1, arr2)\n",
        "#np.isin is used to search whether the element is present in another way or in same list\n",
        "print(arr4)"
      ],
      "metadata": {
        "colab": {
          "base_uri": "https://localhost:8080/"
        },
        "id": "9JD8qF3DLppy",
        "outputId": "15237916-79a4-4050-8d07-78c107bbe847"
      },
      "execution_count": 30,
      "outputs": [
        {
          "output_type": "stream",
          "name": "stdout",
          "text": [
            "<class 'numpy.ndarray'>\n",
            "<class 'numpy.ndarray'>\n",
            "[ True  True  True False]\n"
          ]
        }
      ]
    },
    {
      "cell_type": "code",
      "source": [
        "import numpy as np\n",
        "arr1=[1,2,34,44,33]\n",
        "arr2=np.array(arr1)\n",
        "\n",
        "arr3=np.savetxt(\"numpyarray.txt\",arr2)"
      ],
      "metadata": {
        "id": "c68xS0beOTsk"
      },
      "execution_count": 31,
      "outputs": []
    },
    {
      "cell_type": "code",
      "source": [
        "import numpy as np\n",
        "\"\"\"Q4 Write a NumPy program to Create a 1-D array of 30 evenly spaced elements between\n",
        "2.5. and 6.5, inclusive.\"\"\"\n",
        "\n",
        "#arange function is similar to range function\n",
        "\n",
        "arr4=np.arange(0,30,2.5)\n",
        "print(arr4)\n",
        "print(type(arr4))\n",
        "\n",
        "arr5=np.arange(0,30,6.5)\n",
        "#np.arrange() is a NumPy function used to create an array with regularly spaced values within a specified range\n",
        "print(arr5)\n",
        "print(type(arr5))"
      ],
      "metadata": {
        "colab": {
          "base_uri": "https://localhost:8080/"
        },
        "id": "KGqYEOSgPDK6",
        "outputId": "e28a7fbd-b4d2-401f-e551-785d95e53fb4"
      },
      "execution_count": 32,
      "outputs": [
        {
          "output_type": "stream",
          "name": "stdout",
          "text": [
            "[ 0.   2.5  5.   7.5 10.  12.5 15.  17.5 20.  22.5 25.  27.5]\n",
            "<class 'numpy.ndarray'>\n",
            "[ 0.   6.5 13.  19.5 26. ]\n",
            "<class 'numpy.ndarray'>\n"
          ]
        }
      ]
    },
    {
      "cell_type": "code",
      "source": [
        "import numpy as np\n",
        "arr1=np.array([1,2,3])\n",
        "arr2=np.array([4,5,6,])\n",
        "\n",
        "arr3=[]\n",
        "for i in range(len(arr1)):\n",
        "    print(arr1[i]*arr2[i])\n",
        "    arr3.append(arr1[i]*arr2[i])\n",
        "\n",
        "print(type(arr3))\n",
        "\n",
        "arr4=np.array(arr3)\n",
        "print(arr4)\n",
        "print(type(arr4))"
      ],
      "metadata": {
        "colab": {
          "base_uri": "https://localhost:8080/"
        },
        "id": "Ix9Iz5WvPrJn",
        "outputId": "99065344-cc71-4fa1-e93c-526a74b08391"
      },
      "execution_count": 33,
      "outputs": [
        {
          "output_type": "stream",
          "name": "stdout",
          "text": [
            "4\n",
            "10\n",
            "18\n",
            "<class 'list'>\n",
            "[ 4 10 18]\n",
            "<class 'numpy.ndarray'>\n"
          ]
        }
      ]
    }
  ]
}